{
  "nbformat": 4,
  "nbformat_minor": 0,
  "metadata": {
    "colab": {
      "provenance": []
    },
    "kernelspec": {
      "name": "python3",
      "display_name": "Python 3"
    },
    "language_info": {
      "name": "python"
    }
  },
  "cells": [
    {
      "cell_type": "markdown",
      "source": [
        "Create a variables with your name and print each characters using a loop"
      ],
      "metadata": {
        "id": "6A3I-LQZWY5J"
      }
    },
    {
      "cell_type": "code",
      "source": [
        "name=\"Ali\"\n",
        "for letter in name:\n",
        "    print(letter)\n"
      ],
      "metadata": {
        "colab": {
          "base_uri": "https://localhost:8080/"
        },
        "id": "rAw6qrkJa-vx",
        "outputId": "a4698c44-0fed-46bb-880b-c48ec0a04a33"
      },
      "execution_count": null,
      "outputs": [
        {
          "output_type": "stream",
          "name": "stdout",
          "text": [
            "A\n",
            "l\n",
            "i\n"
          ]
        }
      ]
    },
    {
      "cell_type": "markdown",
      "source": [
        "Use slicing to print the first 4 characters of a string"
      ],
      "metadata": {
        "id": "CjS23YAJch66"
      }
    },
    {
      "cell_type": "code",
      "source": [
        "my_string=(\"Pakistan\")\n",
        "print(my_string[:4])"
      ],
      "metadata": {
        "colab": {
          "base_uri": "https://localhost:8080/"
        },
        "id": "DD-kTivoc4ZG",
        "outputId": "e3ce0549-2444-4a96-8738-c2374787e0f0"
      },
      "execution_count": null,
      "outputs": [
        {
          "output_type": "stream",
          "name": "stdout",
          "text": [
            "Paki\n"
          ]
        }
      ]
    },
    {
      "cell_type": "markdown",
      "source": [
        "Input a number of string,convert t into int,and print the result"
      ],
      "metadata": {
        "id": "6gOTA_i3dofN"
      }
    },
    {
      "cell_type": "code",
      "source": [
        "num=input(\"enter a number\")\n",
        "num=int(num)\n",
        "print(num+10)"
      ],
      "metadata": {
        "colab": {
          "base_uri": "https://localhost:8080/"
        },
        "id": "ItQ1WkRZeUvw",
        "outputId": "56bd8cbe-fc8d-4623-f1ca-0cd5b4580162"
      },
      "execution_count": null,
      "outputs": [
        {
          "output_type": "stream",
          "name": "stdout",
          "text": [
            "enter a number56\n",
            "66\n"
          ]
        }
      ]
    },
    {
      "cell_type": "markdown",
      "source": [
        "A list of string number convert it into integers,and print updated list"
      ],
      "metadata": {
        "id": "uMTY8wNXfzne"
      }
    },
    {
      "cell_type": "code",
      "source": [
        "data=(\"10\",\"30\",\"40\")\n",
        "new_list=[\"for(x)in data\"]\n",
        "print(new_list)\n"
      ],
      "metadata": {
        "colab": {
          "base_uri": "https://localhost:8080/"
        },
        "id": "zVsO6my5gWi-",
        "outputId": "14d5cdd6-f6a0-431a-bd75-33f4884bf040"
      },
      "execution_count": null,
      "outputs": [
        {
          "output_type": "stream",
          "name": "stdout",
          "text": [
            "['for(x)in data']\n"
          ]
        }
      ]
    },
    {
      "cell_type": "markdown",
      "source": [
        "Python is in a string using in by use a message"
      ],
      "metadata": {
        "id": "wJjSPKZch17k"
      }
    },
    {
      "cell_type": "code",
      "source": [
        "my_string=(\"I am learning python\")\n",
        "if\"python\"in my_string:\n",
        "    print(\"yes\")\n",
        "else:\n",
        "    print(\"no\")"
      ],
      "metadata": {
        "colab": {
          "base_uri": "https://localhost:8080/"
        },
        "id": "R18gpjAjiIwq",
        "outputId": "e995faf6-6577-4ab1-e4ca-1918c1567038"
      },
      "execution_count": null,
      "outputs": [
        {
          "output_type": "stream",
          "name": "stdout",
          "text": [
            "yes\n"
          ]
        }
      ]
    },
    {
      "cell_type": "markdown",
      "source": [
        "A string and convert into uppercase,lowercase and title case"
      ],
      "metadata": {
        "id": "uZwm59uiij5L"
      }
    },
    {
      "cell_type": "code",
      "source": [
        "word=(\"Pakistan\")\n",
        "print(\"word.upper()\")\n",
        "print(\"word.lower()\")\n",
        "print(\"word.title()\")"
      ],
      "metadata": {
        "colab": {
          "base_uri": "https://localhost:8080/"
        },
        "id": "wGDGQxAriwK6",
        "outputId": "022eb420-6702-4d07-b8a2-045839d9e901"
      },
      "execution_count": null,
      "outputs": [
        {
          "output_type": "stream",
          "name": "stdout",
          "text": [
            "word.upper()\n",
            "word.lower()\n",
            "word.title()\n"
          ]
        }
      ]
    },
    {
      "cell_type": "code",
      "source": [
        "x=\"123\"\n",
        "print(type(x))\n",
        "y=int(x)\n",
        "print(type(y))"
      ],
      "metadata": {
        "colab": {
          "base_uri": "https://localhost:8080/"
        },
        "id": "P5jSdgLAj7Us",
        "outputId": "be2282bb-c27e-4549-c0ce-e3bb3229eb81"
      },
      "execution_count": null,
      "outputs": [
        {
          "output_type": "stream",
          "name": "stdout",
          "text": [
            "<class 'str'>\n",
            "<class 'int'>\n"
          ]
        }
      ]
    },
    {
      "cell_type": "markdown",
      "source": [
        "Inform for name,and age,checkif age is above of 18 and pring eglibility"
      ],
      "metadata": {
        "id": "CrySevg8k42y"
      }
    },
    {
      "cell_type": "code",
      "source": [
        "name=input(\"enter your name\")\n",
        "age=int(input(\"enter your age\"))\n",
        "if age>=18:\n",
        "    print(\"you are eligible\")\n",
        "else:\n",
        "    print(\"you are not eligible\")"
      ],
      "metadata": {
        "colab": {
          "base_uri": "https://localhost:8080/"
        },
        "id": "kDK8MmNTm8kT",
        "outputId": "591fd5a3-092e-4e5e-989b-7536472cadd1"
      },
      "execution_count": null,
      "outputs": [
        {
          "output_type": "stream",
          "name": "stdout",
          "text": [
            "enter your nameMuhammad Ali\n",
            "enter your age14\n",
            "you are not eligible\n"
          ]
        }
      ]
    },
    {
      "cell_type": "code",
      "source": [
        "msg=\"Pakistan\"\n",
        "print(\"msg.isupper()\")"
      ],
      "metadata": {
        "colab": {
          "base_uri": "https://localhost:8080/"
        },
        "id": "TExcH8z8EDjq",
        "outputId": "14b07fb1-a6b8-47e7-ca12-9566693fe5bb"
      },
      "execution_count": null,
      "outputs": [
        {
          "output_type": "stream",
          "name": "stdout",
          "text": [
            "msg.isuppercase\n"
          ]
        }
      ]
    },
    {
      "cell_type": "markdown",
      "source": [
        "A string with numbersand convert into float,int and print."
      ],
      "metadata": {
        "id": "Nsrrp8-AFQ3T"
      }
    },
    {
      "cell_type": "code",
      "source": [
        "my_string=\"56\"\n",
        "my_float=float(my_string)\n",
        "my_int=int(float(my_string))\n",
        "print(my_float)\n",
        "print(my_int)"
      ],
      "metadata": {
        "colab": {
          "base_uri": "https://localhost:8080/"
        },
        "id": "APxOdNA9FdWc",
        "outputId": "7e051795-5a3f-406e-8dba-d76fea27487a"
      },
      "execution_count": null,
      "outputs": [
        {
          "output_type": "stream",
          "name": "stdout",
          "text": [
            "56.0\n",
            "56\n"
          ]
        }
      ]
    }
  ]
}